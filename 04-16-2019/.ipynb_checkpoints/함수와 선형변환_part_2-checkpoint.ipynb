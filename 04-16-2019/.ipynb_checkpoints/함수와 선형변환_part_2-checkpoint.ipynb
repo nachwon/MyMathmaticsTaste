{
 "cells": [
  {
   "cell_type": "markdown",
   "metadata": {},
   "source": [
    "# 2-2. 함수와 선형변환\n",
    "## 2-2-1. 변환에서의 부분집합의 상"
   ]
  },
  {
   "cell_type": "code",
   "execution_count": 1,
   "metadata": {},
   "outputs": [],
   "source": [
    "import numpy as np\n",
    "import matplotlib.pyplot as plt\n",
    "%matplotlib inline"
   ]
  },
  {
   "cell_type": "markdown",
   "metadata": {},
   "source": [
    "### Q. 2차원 공간에서 다음과 같은 위치벡터가 있을 때, 위치 벡터를 잇는 선분은 어떻게 구할까?\n",
    "$\\vec x_{0} = \\begin{bmatrix}\n",
    "-2\\\\\n",
    "-2 \\\\\n",
    "\\end{bmatrix}$ $\\vec x_{1} = \\begin{bmatrix}\n",
    "-2\\\\\n",
    "2 \\\\\n",
    "\\end{bmatrix}$ $\\vec x_{2} = \\begin{bmatrix}\n",
    "2\\\\\n",
    "-2 \\\\\n",
    "\\end{bmatrix}$"
   ]
  },
  {
   "cell_type": "code",
   "execution_count": 2,
   "metadata": {},
   "outputs": [
    {
     "data": {
      "image/png": "[encoded data removed]",
      "text/plain": [
       "<Figure size 432x288 with 1 Axes>"
      ]
     },
     "metadata": {
      "needs_background": "light"
     },
     "output_type": "display_data"
    }
   ],
   "source": [
    "x0 = np.array([-2, -2])\n",
    "x1 = np.array([-2, 2])\n",
    "x2 = np.array([2, -2])\n",
    "s = 0.15\n",
    "ax = plt.axes()\n",
    "colors = ['darkgreen', 'skyblue', 'darkorange']\n",
    "values = ['x0', 'x1', 'x2']\n",
    "n = 0\n",
    "#ax.arrow(0, 0, 0.5, 0.5, head_width=0.05, head_length=0.1, fc='k', ec='k')\n",
    "for i, j in x0, x1, x2: \n",
    "    #ax.arrow(x=0, y= 0, dx = i, dy = j, head_width=0.5, head_length=0.5)\n",
    "    ax.scatter(i, j, s=100, c = colors[n])\n",
    "    ax.annotate(values[n], xy= (i+s, j+s))\n",
    "    ax.annotate(\"\", xy=(i,j), xytext=(0,0), arrowprops=dict(arrowstyle=\"->\", shrinkA=0)) \n",
    "    n += 1\n",
    "\n",
    "ax.plot(x0, x1, linestyle='--', color = 'darkred', linewidth=2)\n",
    "ax.annotate(\"L0\", xy = [-2.5, 0])\n",
    "\n",
    "ax.plot(x1, x0, linestyle='--', color = 'chocolate', linewidth=2)\n",
    "ax.annotate(\"L1\", xy = [0, -2.5])\n",
    "\n",
    "ax.plot(x2, x1, linestyle='--', color = 'darkgreen', linewidth=2)\n",
    "ax.annotate(\"L2\", xy = [0, 0.25])\n",
    "plt.xlim(-5, 5)\n",
    "plt.ylim(-5, 5)\n",
    "\n",
    "plt.grid()"
   ]
  },
  {
   "cell_type": "markdown",
   "metadata": {},
   "source": [
    "### A. $L_{0}, L_{1}, L_{2}$ (점선 부분)을 지나는 벡터 Set을 만들어 보자\n",
    "$L_{0} = \\left \\{ \\vec x_{0} + t (\\vec x_{1} - \\vec x_{0} ) | 0\\leq t \\leq1 \\right \\} $ <br />\n",
    "$L_{1} = \\left \\{ \\vec x_{1} + t (\\vec x_{2} - \\vec x_{1} ) | 0\\leq t \\leq1 \\right \\} $ <br />\n",
    "$L_{2} = \\left \\{ \\vec x_{2} + t (\\vec x_{0} - \\vec x_{2} ) | 0\\leq t \\leq1 \\right \\} $ <br />\n",
    "\n",
    "$ S = \\left \\{ L_{0}, L_{1}, L_{2} \\right \\} $\n",
    "\n",
    "### Real Q. 집합 S에 선형변환을 주면 어떤일이 일어 날까요!?"
   ]
  },
  {
   "cell_type": "markdown",
   "metadata": {},
   "source": [
    "#### 1. 선형변환 정의\n",
    "$ T(\\vec x) = \\begin{bmatrix}\n",
    "1 & -1 \\\\\n",
    "2 & 0\n",
    "\\end{bmatrix}\n",
    "\\begin{bmatrix}\n",
    "x_{1} \\\\\n",
    "x_{2}\n",
    "\\end{bmatrix}$\n",
    "\n",
    "#### 2. 각 L~L3를 변환 시키기\n",
    "$ T(L_{0}) = \\left \\{ T(\\vec x_{0} - t (\\vec x_{1} - \\vec x_{0} )) \\, | \\,0\\leq t \\leq1 \\right \\} $ <br />\n",
    "$ \\;\\,\\qquad = \\left \\{ T(\\vec x_{0}) - T(t (\\vec x_{1} - \\vec x_{0} ))\\, |\\, 0\\leq t \\leq1 \\right \\} $ <br />\n",
    "$ \\;\\,\\qquad = \\left \\{ T(\\vec x_{0}) - tT (\\vec x_{1} - \\vec x_{0} )\\, |\\, 0\\leq t \\leq1 \\right \\} $ <br />\n",
    "$ \\;\\,\\qquad = \\left \\{ T(\\vec x_{0}) - t(T(\\vec x_{1}) - T(\\vec x_{0}))\\, |\\, 0\\leq t \\leq1 \\right \\} $\n",
    "\n",
    "#### $ T(\\vec x_{0}), T(\\vec x_{1})$ 을 가지고 $T(L_{1})$이 표현 가능해 진다."
   ]
  },
  {
   "cell_type": "markdown",
   "metadata": {},
   "source": [
    "### Real A. \n",
    "$ T(\\vec x_{0}) = \\begin{bmatrix}\n",
    "1 & -1 \\\\\n",
    "2 & 0\n",
    "\\end{bmatrix}\n",
    "\\begin{bmatrix}\n",
    "-2 \\\\\n",
    "-2\n",
    "\\end{bmatrix} = \n",
    "\\begin{bmatrix}\n",
    "0 \\\\\n",
    "-4\n",
    "\\end{bmatrix}$ <br />\n",
    "$ T(\\vec x_{1}) = \\begin{bmatrix}\n",
    "1 & -1 \\\\\n",
    "2 & 0\n",
    "\\end{bmatrix}\n",
    "\\begin{bmatrix}\n",
    "-2 \\\\\n",
    "2\n",
    "\\end{bmatrix} = \n",
    "\\begin{bmatrix}\n",
    "-4 \\\\\n",
    "-4\n",
    "\\end{bmatrix}$ <br />\n",
    "$ T(\\vec x_{2}) = \\begin{bmatrix}\n",
    "1 & -1 \\\\\n",
    "2 & 0\n",
    "\\end{bmatrix}\n",
    "\\begin{bmatrix}\n",
    "2 \\\\\n",
    "-2\n",
    "\\end{bmatrix} = \n",
    "\\begin{bmatrix}\n",
    "4 \\\\\n",
    "4\n",
    "\\end{bmatrix}$\n",
    "\n",
    "#### 각 점들마다 변환된 값을 구하지 않고 각 변환된 점만 찾아서 선을 이어주면 선형변환된 모양이 나온다.\n",
    "$T(L_{0})$의 이름: the image of $L_{0}$ under T <br />\n",
    "#### 변형된 삼각형의 집합, $T(S)$는 image of S under T"
   ]
  },
  {
   "cell_type": "code",
   "execution_count": 3,
   "metadata": {},
   "outputs": [
    {
     "data": {
      "image/png": "[encoded data removed]",
      "text/plain": [
       "<Figure size 432x288 with 1 Axes>"
      ]
     },
     "metadata": {
      "needs_background": "light"
     },
     "output_type": "display_data"
    }
   ],
   "source": [
    "xt0 = np.array([0, -4])\n",
    "xt1 = np.array([-4, -4])\n",
    "xt2 = np.array([4, 4])\n",
    "s = 0.15\n",
    "ax = plt.axes()\n",
    "colors = ['darkgreen', 'skyblue', 'darkorange']\n",
    "values = ['x0', 'x1', 'x2']\n",
    "n = 0\n",
    "#ax.arrow(0, 0, 0.5, 0.5, head_width=0.05, head_length=0.1, fc='k', ec='k')\n",
    "for i, j in xt0, xt1, xt2: \n",
    "    #ax.arrow(x=0, y= 0, dx = i, dy = j, head_width=0.5, head_length=0.5)\n",
    "    ax.scatter(i, j, s=100, c = colors[n])\n",
    "    ax.annotate(values[n], xy= (i+s, j+s))\n",
    "    ax.annotate(\"\", xy=(i,j), xytext=(0,0), arrowprops=dict(arrowstyle=\"->\", shrinkA=0)) \n",
    "    n += 1\n",
    "\n",
    "ax.plot(xt0, xt1, linestyle='--', color = 'darkred', linewidth=2)\n",
    "ax.annotate(\"T(L0)\", xy = [-2, -3.75])\n",
    "\n",
    "ax.plot([-4, 4], [-4, 4], linestyle='--', color = 'darkgreen', linewidth=2)\n",
    "ax.annotate(\"T(L1)\", xy = [-0.5, 0.25])\n",
    "\n",
    "ax.plot([0, 4],[-4, 4] , linestyle='--', color = 'chocolate', linewidth=2)\n",
    "ax.annotate(\"T(L2)\", xy = [2, -0.5])\n",
    "\n",
    "plt.xlim(-5, 5)\n",
    "plt.ylim(-5, 5)\n",
    "\n",
    "plt.grid()"
   ]
  },
  {
   "cell_type": "markdown",
   "metadata": {},
   "source": [
    "## 2-2-2. 집합의 원상\n",
    "### $T: X \\rightarrow T$\n",
    "![image.png](./imgs/attach_3.png)"
   ]
  },
  {
   "cell_type": "markdown",
   "metadata": {},
   "source": [
    "### Q. 집합 Y, 공역에서 X를 구한다면?\n",
    "#### S에 대응하는 X의 모든 원소(pink)를 구해보자.\n",
    "※ 그렇다고 집합 S의 모든 원소들이 반드시 대응하는 것은 아니다\n",
    "![image.png](./imgs/attach_4.png)"
   ]
  },
  {
   "cell_type": "markdown",
   "metadata": {},
   "source": [
    "#### Q. $(T(T^{-1}(S)))$이 대응하는 집합은 무엇일까?\n",
    "#### A. 반드시 S가 되는 것은 아니다.\n",
    "$T(T^{-1}(S)) \\subseteq S $"
   ]
  },
  {
   "cell_type": "markdown",
   "metadata": {},
   "source": [
    "## 2-2-3. 원상과 핵 예제 \n",
    "### $ T:\\mathbb{R}^{2} \\rightarrow \\mathbb{R}^{2} $\n",
    "\n",
    "$  T(\\vec x_{0}) = \\begin{bmatrix}\n",
    "1 & 3 \\\\\n",
    "2 & 6\n",
    "\\end{bmatrix}\\begin{bmatrix}\n",
    "x_{1}\\\\\n",
    "x_{2}\n",
    "\\end{bmatrix} $\n",
    "\n",
    "\n",
    "$  A= \\begin{bmatrix}\n",
    "1 & 3 \\\\\n",
    "2 & 6\n",
    "\\end{bmatrix}$\n",
    "\n",
    "*** \n",
    "<img src=\"./imgs/attach_5.png\" width=\"300\">\n",
    "\n",
    "### Q. $T^{-1}(S)$: preimage of S unser T(S의 원상)을 알고 싶다\n",
    "$  S = \\left \\{\\begin{bmatrix}\n",
    "0 \\\\\n",
    "0\n",
    "\\end{bmatrix},\\begin{bmatrix}\n",
    "1\\\\\n",
    "2\n",
    "\\end{bmatrix} \\right \\} $\n",
    "\n",
    "$T^{-1}(S) = \\left \\{ \\vec x \\in \\mathbb{R}^{2} \\,|\\,T(\\vec x) \\in S \\right \\} $ <br />\n",
    "\n",
    "$\\qquad\\quad= \\left \\{ \\vec x \\in \\mathbb{R}^{2} \\,| \\; A\\vec x = \\begin{bmatrix}\n",
    "0\\\\\n",
    "0\n",
    "\\end{bmatrix} or \\; A\\vec x = \\begin{bmatrix}\n",
    "1 \\\\\n",
    "2\n",
    "\\end{bmatrix}\\right \\}$ <br />"
   ]
  },
  {
   "cell_type": "markdown",
   "metadata": {},
   "source": [
    "### A. 위를 만족하는 x를 찾으면 됩니당.\n",
    "$  \\begin{bmatrix}\n",
    "1 & 3 \\\\\n",
    "2 & 6\n",
    "\\end{bmatrix}\\begin{bmatrix}\n",
    "x_{1}\\\\\n",
    "x_{2}\n",
    "\\end{bmatrix} = \\begin{bmatrix}\n",
    "0\\\\\n",
    "0\n",
    "\\end{bmatrix} $ $\\;$ $  \\begin{bmatrix}\n",
    "1 & 3 \\\\\n",
    "2 & 6\n",
    "\\end{bmatrix}\\begin{bmatrix}\n",
    "x_{1}\\\\\n",
    "x_{2}\n",
    "\\end{bmatrix} = \\begin{bmatrix}\n",
    "1\\\\\n",
    "2\n",
    "\\end{bmatrix} $"
   ]
  },
  {
   "cell_type": "markdown",
   "metadata": {},
   "source": [
    "#### 기약행사다리꼴로 $x_{1}, x_{2}$ 구하기\n",
    "$ \\begin{bmatrix}\n",
    "\\left.\\begin{matrix}\n",
    "1 & 3 \\\\ \n",
    "2 & 6\n",
    "\\end{matrix}\\right| \n",
    "\\begin{matrix}\n",
    "0 \\\\\n",
    "0\n",
    "\\end{matrix}\n",
    "\\end{bmatrix}$ $\\qquad $ $ \\begin{bmatrix}\n",
    "\\left.\\begin{matrix}\n",
    "1 & 3 \\\\ \n",
    "2 & 6\n",
    "\\end{matrix}\\right| \n",
    "\\begin{matrix}\n",
    "1 \\\\\n",
    "2\n",
    "\\end{matrix}\n",
    "\\end{bmatrix}$\n",
    "\n",
    "$ \\begin{bmatrix}\n",
    "\\left.\\begin{matrix}\n",
    "1 & 3 \\\\ \n",
    "0 & 0\n",
    "\\end{matrix}\\right| \n",
    "\\begin{matrix}\n",
    "0 \\\\\n",
    "0\n",
    "\\end{matrix}\n",
    "\\end{bmatrix}$ $\\qquad $ $ \\begin{bmatrix}\n",
    "\\left.\\begin{matrix}\n",
    "1 & 3 \\\\ \n",
    "0 & 0\n",
    "\\end{matrix}\\right| \n",
    "\\begin{matrix}\n",
    "0 \\\\\n",
    "0\n",
    "\\end{matrix}\n",
    "\\end{bmatrix}$\n",
    "\n",
    "\n",
    "$x_{1}$은 pivot variable이 되고 $x_{2}$는 free variable이 된다."
   ]
  },
  {
   "cell_type": "markdown",
   "metadata": {},
   "source": [
    "### Q. $x_{2}$가 임의의 실수 일때, $x_{1}$은 무엇일까?\n",
    "$x_{2} = t \\quad t \\in \\mathbb{R} $ <br />\n",
    "위의 경우에 대입해 보면 <br />\n",
    "$x_{1} + 3x_{2} = 0 \\qquad x_{1} + 3x_{2} = 1$ <br />\n",
    "$x_{1} + 3t = 0 \\qquad\\;\\; x_{1} = 1-3t$ <br />\n",
    "$x_{1} = -3t$\n",
    "\n",
    "#### 첫번째 식의 해\n",
    "$ \\begin{bmatrix}\n",
    "x_{1} \\\\\n",
    "x_{1}\n",
    "\\end{bmatrix} = t \\begin{bmatrix}\n",
    "-3 \\\\\n",
    "1\n",
    "\\end{bmatrix} \\; t \\in \\mathbb{R} $\n",
    "\n",
    "#### 두번째 식의 해\n",
    "$ \\begin{bmatrix}\n",
    "x_{1} \\\\\n",
    "x_{1}\n",
    "\\end{bmatrix} =\\begin{bmatrix}\n",
    "1 \\\\\n",
    "0\n",
    "\\end{bmatrix} + t \\begin{bmatrix}\n",
    "-3 \\\\\n",
    "1\n",
    "\\end{bmatrix} \\; t \\in \\mathbb{R} $"
   ]
  },
  {
   "cell_type": "code",
   "execution_count": 151,
   "metadata": {},
   "outputs": [
    {
     "data": {
      "image/png": "[encoded data removed]",
      "text/plain": [
       "<Figure size 432x288 with 1 Axes>"
      ]
     },
     "metadata": {
      "needs_background": "light"
     },
     "output_type": "display_data"
    }
   ],
   "source": [
    "x1= np.array([-3, 1])\n",
    "a = np.array([1, 0])\n",
    "\n",
    "def y(x1):\n",
    "    return [(i*x1).tolist() for i in np.arange(-5, 5, 0.2)]\n",
    "y1 = y(x1)\n",
    "\n",
    "def y_2(x1):\n",
    "    return [(i*x1+a).tolist() for i in np.arange(-5, 5, 0.2)]\n",
    "y2 = y_2(x1)\n",
    "\n",
    "for i,j in y1:\n",
    "    plt.scatter(i, j, s=10, color='darkblue')\n",
    "    \n",
    "for i, j in y2:\n",
    "    plt.scatter(i, j, s= 10, color='darkorange')\n",
    "\n",
    "plt.plot([-6, 6], [2, -2], color = 'darkblue')\n",
    "plt.plot([16, -13], [-5, 4.8], color='darkorange')\n",
    "\n",
    "plt.xlim(-5, 5)\n",
    "plt.ylim(-5, 5)\n",
    "\n",
    "plt.grid()"
   ]
  },
  {
   "cell_type": "markdown",
   "metadata": {},
   "source": [
    "평행 이동한 선이 나온다.\n",
    "\n",
    "### Q. 다시, X에 있는 벡터를 변환해서 $ S( \\begin{bmatrix}\n",
    "0 \\\\\n",
    "0\n",
    "\\end{bmatrix}, \\begin{bmatrix}\n",
    "1 \\\\\n",
    "2\n",
    "\\end{bmatrix})$에 사상하는 벡터를 찾고 싶다."
   ]
  },
  {
   "cell_type": "code",
   "execution_count": 173,
   "metadata": {},
   "outputs": [
    {
     "data": {
      "image/png": "[encoded data removed]",
      "text/plain": [
       "<Figure size 432x288 with 1 Axes>"
      ]
     },
     "metadata": {
      "needs_background": "light"
     },
     "output_type": "display_data"
    }
   ],
   "source": [
    "plt.scatter(0, 0, color='blue')\n",
    "plt.plot([-6, 6], [2, -2], color = 'darkblue')\n",
    "\n",
    "plt.scatter(1, 2, color='orange')\n",
    "plt.plot([16, -13], [-5, 4.8], color='darkorange')\n",
    "\n",
    "plt.xlim(-5, 5)\n",
    "plt.ylim(-5, 5)\n",
    "\n",
    "plt.grid()"
   ]
  },
  {
   "cell_type": "markdown",
   "metadata": {},
   "source": [
    "### Blue line의 집합: 아래 식의 벡터들의 집합\n",
    "$ \\begin{bmatrix}\n",
    "x_{1} \\\\\n",
    "x_{1}\n",
    "\\end{bmatrix} = t \\begin{bmatrix}\n",
    "-3 \\\\\n",
    "1\n",
    "\\end{bmatrix} \\; t \\in \\mathbb{R} $\n",
    "\n",
    "#### Kernel of T, Ker (T) $T(B) = \\begin{bmatrix}\n",
    "0 \\\\\n",
    "0\n",
    "\\end{bmatrix}$\n",
    "$ \\left \\{ x \\in \\mathbb{R}^{2} \\,|\\, T(\\vec x) = \\left \\{ \\vec 0 \\right \\}\\right \\}$\n",
    "#### Ker(T) = N(A)"
   ]
  },
  {
   "cell_type": "markdown",
   "metadata": {},
   "source": [
    "## 2-2-4. 선형변환의 합과 스칼라 곱\n",
    "1. 첫번째 변환 S <br />\n",
    "$ S: \\mathbb{R}^{n} \\rightarrow \\mathbb{R}^{m} $\n",
    "2. 두번째 변환 T <br />\n",
    "$ T: \\mathbb{R}^{n} \\rightarrow \\mathbb{R}^{m} $\n",
    "\n",
    "### Q1. 두 변환을 더하면?\n",
    "$ (S + T)(\\vec x) = S(\\vec x) + T(\\vec x) \\quad (S+T): \\mathbb{R}^{n} \\rightarrow \\mathbb{R}^{m} $\n",
    "\n",
    "### Q2. 두 변환을 곱하면?\n",
    "$ (cS)(\\vec x) = c(S(\\vec x)) \\quad (cS): \\mathbb{R}^{n} \\rightarrow \\mathbb{R}^{m} $\n",
    "\n",
    "***\n",
    "$ S(\\vec x) = \\mathbf{A} \\vec x $ <br />\n",
    "$ T(\\vec x) = \\mathbf{B} \\vec x $ ($\\mathbf{A}, \\mathbf{B}$는 $m \\times n $행렬)\n",
    "\n",
    "\n",
    "$ \\mathbf{A} = \\begin{bmatrix}\n",
    "\\vec a_{1} & \\vec a_{2} & \\dots & \\vec a_{n}\n",
    "\\end{bmatrix} $ <br />\n",
    "\n",
    "$ \\mathbf{B} = \\begin{bmatrix}\n",
    "\\vec a_{1} & \\vec a_{2} & \\dots & \\vec a_{n}\n",
    "\\end{bmatrix} $ <br />\n",
    "\n",
    "$ \\vec x = \\begin{bmatrix}\n",
    "x_{1} \\\\\n",
    "x_{2} \\\\\n",
    "\\vdots \\\\\n",
    "x_{n}\n",
    "\\end{bmatrix} $ <br />\n",
    "\n",
    "***\n",
    "\n",
    "### A1. $(S+T)(\\vec x) = S(\\vec x) + T(\\vec x)$ ?\n",
    "$(S+T)(\\vec x) = S(\\vec x) + T(\\vec x)$ <br />\n",
    "$\\qquad\\qquad = \\mathbf{A}\\vec x + \\mathbf(B)\\vec x$\n",
    "\n",
    "$\\mathbf{A}\\vec x = x_{1}\\vec a_{1} + x_{2}\\vec a_{2} + \\dots + x_{n}\\vec a_{n}$ <br />\n",
    "$\\mathbf{B}\\vec x = x_{1}\\vec b_{1} + x_{2}\\vec b_{2} + \\dots + x_{n}\\vec b_{n}$ <br />\n",
    "\n",
    "$ = x_{1}\\vec a_{1} + x_{2}\\vec a_{2} + \\dots + x_{n}\\vec a_{n}$ <br />\n",
    "$ \\quad +\\,x_{1}\\vec b_{1} + x_{2}\\vec b_{2} + \\dots + x_{n}\\vec b_{n}$ <br />\n",
    "$ \\quad = x_{1}(\\vec a_{1} + \\vec b_{1}) +  x_{2}(\\vec a_{2} + \\vec b_{2}) + \\dots + x_{n}(\\vec a_{n} + \\vec b_{n})$\n",
    "***\n",
    "\n",
    "$ \\begin{bmatrix}\n",
    "\\vec a_{1}+\\vec b_{1} & \\vec a_{2}+\\vec b_{2} & \\dots  & \\vec a_{n}+ \\vec b_{n} \n",
    "\\end{bmatrix} \\begin{bmatrix}\n",
    "\\vec x_{1} \\\\ \\vec x_{2} \\\\ \\vdots \\\\ \\vec x_{n}\n",
    "\\end{bmatrix}$ <br />\n",
    "\n",
    "####  $\\rightarrow \\mathbf{A}$와 $\\mathbf{B}$가 같은 차원이라면, A + B가 가능하다.\n",
    "$(S+T)(\\vec x) = S(\\vec x) + T(\\vec x)$ <br />\n",
    "$\\qquad\\qquad = \\mathbf{A}(\\vec x) + \\mathbf{B}(\\vec x)$ <br />\n",
    "$\\qquad\\qquad = (\\mathbf{A} + \\mathbf{B})\\vec x$ <br />"
   ]
  },
  {
   "cell_type": "markdown",
   "metadata": {},
   "source": [
    "### A2. $(cS)(\\vec x) = c(S(\\vec x))$ ?\n",
    "$(cS)(\\vec x) = c(S(\\vec x)) = c\\mathbf{A}\\vec x$ <br />\n",
    "$ \\qquad\\qquad\\qquad\\;\\,=c(x_{1}\\vec a_{1} + x_{2}\\vec a_{2} +\\dots + x_{n}\\vec a_{n})$ <br />\n",
    "$ \\qquad\\qquad\\qquad\\;\\,=x_{1}c\\vec a_{1} + x_{2}c\\vec a_{2} +\\dots + x_{n}c\\vec a_{n}$ <br />\n",
    "***\n",
    "$ \\begin{bmatrix}\n",
    "\\vec ca_{1} & c\\vec a_{2} & \\dots  & c\\vec a_{n} \n",
    "\\end{bmatrix} \\begin{bmatrix}\n",
    "\\vec x_{1} \\\\ \\vec x_{2} \\\\ \\vdots \\\\ \\vec x_{n}\n",
    "\\end{bmatrix}$ <br />\n",
    "\n",
    "####  $\\rightarrow \\mathbf{A}$와 $\\mathbf{B}$가 같은 차원이라면, cA가 가능하다.\n",
    "$c\\mathbf{A} =  \\begin{bmatrix}\n",
    "\\vec ca_{1} & c\\vec a_{2} & \\dots  & c\\vec a_{n} \n",
    "\\end{bmatrix}$"
   ]
  },
  {
   "cell_type": "markdown",
   "metadata": {},
   "source": [
    "## 2-2-5. 행렬의 합과 스칼라 곱 심화 (라고 쓰고 반복이라 읽는다..)"
   ]
  },
  {
   "cell_type": "markdown",
   "metadata": {},
   "source": [
    "### 1. 행렬의 합 A+B\n",
    "$\\mathbf{A} =  \\begin{bmatrix}\n",
    "\\vec a_{1} & \\vec a_{2} & \\dots  & \\vec a_{n} \n",
    "\\end{bmatrix}$ $=  \\begin{bmatrix}\n",
    "a_{11} & a_{12} & \\dots  & a_{1n} \\\\\n",
    "a_{21} & a_{22} & \\dots  & a_{2n} \\\\\n",
    "\\dots & \\dots & \\dots  & \\dots \\\\\n",
    "a_{m1} & a_{m2} & \\dots  & a_{mn} \n",
    "\\end{bmatrix}$\n",
    "\n",
    "$\\mathbf{B} =  \\begin{bmatrix}\n",
    "\\vec b_{1} & \\vec b_{2} & \\dots  & \\vec b_{n} \n",
    "\\end{bmatrix}$ $=  \\begin{bmatrix}\n",
    "b_{11} & b_{12} & \\dots  & b_{1n} \\\\\n",
    "b_{21} & b_{22} & \\dots  & b_{2n} \\\\\n",
    "\\dots & \\dots & \\dots  & \\dots \\\\\n",
    "b_{m1} & b_{m2} & \\dots  & b_{mn} \n",
    "\\end{bmatrix}$\n",
    "\n",
    "$\\mathbf{A}+\\mathbf{B} = \\begin{bmatrix}\n",
    "a_{11}+b_{11} & a_{12}+b_{12} & \\dots  & a_{1n}+b_{1n} \\\\\n",
    "a_{21}+b_{21} & a_{22}+b_{22} & \\dots  & a_{2n}+b_{2n} \\\\\n",
    "\\dots & \\dots & \\dots  & \\dots \\\\\n",
    "a_{m1}+b_{m1} & a_{m2}+b_{m2} & \\dots  & a_{mn}+b_{mn} \n",
    "\\end{bmatrix}$"
   ]
  },
  {
   "cell_type": "markdown",
   "metadata": {},
   "source": [
    "#### 예제\n",
    "$ \\begin{bmatrix}\n",
    "1 & 3\\\\\n",
    "-2 & 4\\\\\n",
    "\\end{bmatrix} +\\begin{bmatrix}\n",
    "2 & 7 \\\\\n",
    "-3 & -1\n",
    "\\end{bmatrix} = \\begin{bmatrix}\n",
    "3 & 10 \\\\\n",
    "-5 & 3\n",
    "\\end{bmatrix} $"
   ]
  },
  {
   "cell_type": "code",
   "execution_count": 5,
   "metadata": {},
   "outputs": [
    {
     "data": {
      "text/plain": [
       "array([[ 3, 10],\n",
       "       [-5,  3]])"
      ]
     },
     "execution_count": 5,
     "metadata": {},
     "output_type": "execute_result"
    }
   ],
   "source": [
    "a = np.array([[1, 3], [-2, 4]])\n",
    "b = np.array([[2, 7], [-3, -1]])\n",
    "a + b"
   ]
  },
  {
   "cell_type": "markdown",
   "metadata": {},
   "source": [
    "### 2. 스칼라 곱 cA\n",
    "$\\mathbf{A} =  \\begin{bmatrix}\n",
    "\\vec a_{1} & \\vec a_{2} & \\dots  & \\vec a_{n} \n",
    "\\end{bmatrix}$ $=  \\begin{bmatrix}\n",
    "a_{11} & a_{12} & \\dots  & a_{1n} \\\\\n",
    "a_{21} & a_{22} & \\dots  & a_{2n} \\\\\n",
    "\\dots & \\dots & \\dots  & \\dots \\\\\n",
    "a_{m1} & a_{m2} & \\dots  & a_{mn} \n",
    "\\end{bmatrix}$\n",
    "\n",
    "$c\\mathbf{A} = \\begin{bmatrix}\n",
    "c\\vec a_{1} & c\\vec a_{2} & \\dots  & c\\vec a_{n} \n",
    "\\end{bmatrix} = \\begin{bmatrix}\n",
    "ca_{11} & ca_{12} & \\dots  & ca_{1n} \\\\\n",
    "ca_{21} & ca_{22} & \\dots  & ca_{2n} \\\\\n",
    "\\dots & \\dots & \\dots  & \\dots \\\\\n",
    "ca_{m1} & ca_{m2} & \\dots  & ca_{mn} \n",
    "\\end{bmatrix}$"
   ]
  },
  {
   "cell_type": "markdown",
   "metadata": {},
   "source": [
    "#### 예제\n",
    "$ 5\\begin{bmatrix}\n",
    "1 & -1\\\\\n",
    "2 & 3\\\\\n",
    "7 & 0 \\\\\n",
    "\\end{bmatrix} = \\begin{bmatrix}\n",
    "5 & -5 \\\\\n",
    "10 & 15 \\\\\n",
    "35 & 0\n",
    "\\end{bmatrix} $"
   ]
  },
  {
   "cell_type": "code",
   "execution_count": 8,
   "metadata": {},
   "outputs": [
    {
     "data": {
      "text/plain": [
       "array([[ 5, -5],\n",
       "       [10, 15],\n",
       "       [35,  0]])"
      ]
     },
     "execution_count": 8,
     "metadata": {},
     "output_type": "execute_result"
    }
   ],
   "source": [
    "A = np.array([[1, -1],\n",
    "              [2, 3],\n",
    "              [7, 0]])\n",
    "A*5"
   ]
  }
 ],
 "metadata": {
  "kernelspec": {
   "display_name": "Python 3",
   "language": "python",
   "name": "python3"
  },
  "language_info": {
   "codemirror_mode": {
    "name": "ipython",
    "version": 3
   },
   "file_extension": ".py",
   "mimetype": "text/x-python",
   "name": "python",
   "nbconvert_exporter": "python",
   "pygments_lexer": "ipython3",
   "version": "3.7.2"
  }
 },
 "nbformat": 4,
 "nbformat_minor": 2
}
