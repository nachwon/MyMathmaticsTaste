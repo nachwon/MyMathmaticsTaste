{
 "cells": [
  {
   "cell_type": "markdown",
   "metadata": {},
   "source": [
    "# 2-1. 함수와 선형변환"
   ]
  },
  {
   "cell_type": "markdown",
   "metadata": {},
   "source": [
    "## 2-1-1. 함수 더 이해하기\n",
    "### 목표\n",
    "선형대수를 배우기 전의 알고있는 함수(function)의 개념과 선형대수에서 다루는 벡터(vector)의 개념을 연결하는 것, 함수의 개념을 확장시킨다!\n",
    "\n",
    "### 함수 리마인드\n",
    "어떤 집합(set) X와 Y가 있고, X의 원소들을 집합 Y의 원소들에 대응 시키면 함수라고 한다<br/>\n",
    "그림으로 표현하면, 다음과 같다\n",
    "![image.png](./imgs/attach_1.png)\n",
    "\n",
    "함수는 한 집합의 원소들과 다른 집합의 원소들과의 관계를 나타낸다<br/>\n",
    "X의 원소를 Y의 원소로 대응시키는 것을, 사상(mapping)한다고 말한다\n",
    "\n",
    "위의 관계를 수식으로 표현하면, 다음과 같다\n",
    "\n",
    "$f: X \\rightarrow Y$"
   ]
  },
  {
   "cell_type": "markdown",
   "metadata": {},
   "source": [
    "이제 더 구체적인 실제 함수로 예를들어보자\n",
    "\n",
    "$f(x) = x^{2}$\n",
    "\n",
    "보통 함수를 정의할 때, 입력되는 $x$의 조건을 포함하기도 하는데, 아무런 조건이 없으면 모든 실수를 의미한다\n",
    "\n",
    "이 함수에서 $x$가 실수 집합이라면, 대응되는 $x^{2}$값도 실수집합이 된다\n",
    "\n",
    "따라서, 함수 f의 조건 관계를 아래와 같이 적어볼 수 있다\n",
    "\n",
    "$f: R \\rightarrow R$\n",
    "\n",
    "\n",
    "#### NOTE: 살만 칸 아저씨가 말한다 - 함수에 대한 개념\n",
    "여기서 잠시 짚고 넘어갈 게 있어요<br/>\n",
    "1. 제가 맨 처음 함수를 배웠을 때는 함수에 $x$를 집어넣으면 $x^{2}$을 뱉는다고 생각했어요 이건 사실이죠 실제로 이렇게 나와요\n",
    "\n",
    "2. 그 다음에 저는 다르게 생각해 봤어요 함수가 $x$를 다른 수로 바꾼다고 생각했죠 이런 식으로 생각해도 돼요 사실 가장 적절한 표현일 수도 있죠\n",
    "\n",
    "3. 하지만 지금 배우는 함수의 정의는 $x$와 $x^{2}$ 사이의 대응관계라고 하는 것이 적절해요\n",
    "\n",
    "->\n",
    "살만칸 아저씨의 생각을 나름대로 재해석해보면\n",
    "1. $x$와 $x^{2}$은 의존성이 있다, 연산에 초점이 맞춰져있고 의존(dependency)한다\n",
    "2. $x$와 $x^{2}$은 의존성이 없다, 연산에 초점이 맞춰져있지만, 의존성이 없다고 이해\n",
    "3. $x$와 $x^{2}$은 의존성이 있다, 다만 연산하는 것이 아니라 그저 정의된 수식에 따라 사상(mapping) 한다"
   ]
  },
  {
   "cell_type": "markdown",
   "metadata": {},
   "source": [
    "### 함수 용어 리마인드\n",
    "함수 용어를 리마인드하기 위해, 위에서 사용한 관계에 대한 수식들을 가져와 보면,\n",
    "\n",
    "$f: X \\rightarrow Y$<br/>\n",
    "이 관계에서, $X$는 정의역(domain), $Y$는 공역(co-domain)\n",
    "\n",
    "$f: R \\rightarrow R$<br/>\n",
    "이 관계에서, $R$은 정의역(domain)이면서, 공역(co-domain)\n",
    "\n",
    "치역(range)은?<br/>\n",
    "\"subset of co-domain that function actually maps to\"<br/>\n",
    "\"공역안에 있는, 함수가 실제로 값을 대응시키는 집합\""
   ]
  },
  {
   "cell_type": "markdown",
   "metadata": {},
   "source": [
    "예를들어 아래와 같은 관계와 정의를 갖는 함수 $g$가 있다면,<br/>\n",
    "$g: R^{2} \\rightarrow R$<br/>\n",
    "$g(x_{1}, x_{2}) = 2$\n",
    "\n",
    "여기서,<br/>\n",
    "정의역(domain)은 $R^{2}$, 공역(co-domain)은 $R$<br/>\n",
    "치역(range)은 set {2}이고, {2}는 subset of 공역(co-domain), $R$"
   ]
  },
  {
   "cell_type": "markdown",
   "metadata": {},
   "source": [
    "다른 예를들어보면,<br/>\n",
    "$h: R^{2} \\rightarrow R^{3}$<br/>\n",
    "$h(x_{1}, x_{2}) = (x_{1}+x_{2}, x_{2}-x_{1}, x_{2} \\cdot x_{1})$\n",
    "\n",
    "여기서,<br/>\n",
    "정의역(domain)은 $R^{2}$, 공역(co-domain)은 $R^{3}$<br/>\n",
    "\n",
    "치역(range)은 \"함수가 실제로 대응시키는 값\"이므로,<br/>\n",
    "$h(2, 3) = (5, 1, 6)$<br/>\n",
    "$(5, 1, 0) \\in range$\n",
    "\n",
    "치역(range)에 포함되지 않으면서 공역(co-domain)에 포함되는 원소 $(5, 1, 0)$에 대해서 생각해보자<br/>\n",
    "$(5, 1, 0) \\notin range$\n",
    "\n",
    "#### QUESTION:\n",
    "여기서 치역(Range)은 수학적으로 어떻게 표현?\n"
   ]
  },
  {
   "cell_type": "markdown",
   "metadata": {},
   "source": [
    "### 함수 용어 in 선형대수\n",
    "위에서 봤던 $f, g, h$ 함수들을 보면 다음과 같다\n",
    "\n",
    "$f: R \\rightarrow R$<br/>\n",
    "$f(x) = x^{2}$\n",
    "\n",
    "$g: R^{2} \\rightarrow R$<br/>\n",
    "$g(x_{1}, x_{2}) = 2$\n",
    "\n",
    "$h: R^{2} \\rightarrow R^{3}$<br/>\n",
    "$h(x_{1}, x_{2}) = (x_{1}+x_{2}, x_{2}-x_{1}, x_{2} x_{1})$\n",
    "\n",
    "\n",
    "$f$나, $g$함수 처럼,<br/>\n",
    "1차원 공간 또는 1차원 공간의 부분공간에 대응시키는 함수를 (즉, 공역(co-domain)이 $R$인 함수)<br/>\n",
    "스칼라 값 함수(scalar valued function) 또는 실수 값 함수(real valued function)라고 한다\n",
    "\n",
    "$h$함수 처럼,<br/>\n",
    "1차원 공간보다 높은 차원의 공간 또는 1차원 공간보다 높은 차원의 부분공간에 대응시키는 함수를 (즉, n > 1이고, 공역(co-domain)이 $R^{n}$인 함수)<br/>\n",
    "벡터 값 함수(vector valued function)라고 한다"
   ]
  },
  {
   "cell_type": "markdown",
   "metadata": {},
   "source": [
    "## 2-1-2.벡터의 변환\n",
    "\n",
    "### 살만 칸 아저씨의 함수에 대한 개념\n",
    "하지만 지금 배우는 함수의 정의는 $x$와 $x^{2}$ 사이의 <b>대응관계</b>라고 하는 것이 적절해요\n",
    "\n",
    "->\n",
    "$x$와 $x^{2}$은 의존성이 있다, 다만 연산하는 것이 아니라 그저 정의된 수식에 따라 <b>사상(mapping)</b> 한다"
   ]
  },
  {
   "cell_type": "markdown",
   "metadata": {},
   "source": [
    "### Vector? 리마인드\n",
    "\"the members of the set\" == \"어느 집합의 원소들의 나열\"<br/>\n",
    "$\\vec x \\in R^{n}$\n",
    "\n",
    "column, vector 표기법<br/>\n",
    "$\\vec x = \\begin{pmatrix} x_{1}\\\\ x_{2}\\\\ ...\\\\ x_{n}\\\\ \\end{pmatrix} = \\left[\\begin{array} {rrr} x_{1} \\\\ x_{2} \\\\ ... \\\\ x_{n} \\\\ \\end{array}\\right]$\n",
    "\n",
    "n-tuples 표기법<br/>\n",
    "$\\vec x = (x_{1}, x_{2}, ..., x_{n})$\n",
    "\n",
    "$R^{n}$은? 집합이다, 여기서는 모든 $\\vec x$의 집합<br/>\n",
    "$R^{n} = \\{(x_{1}, x_{2}, ..., x_{n}) | (x_{1}, x_{2}, ..., x_{n} \\in R\\}$"
   ]
  },
  {
   "cell_type": "markdown",
   "metadata": {},
   "source": [
    "### 함수는 mapping!\n",
    "![image.png](./imgs/attach_2.png)\n",
    "\n",
    "위 그림은 함수이다<br/>\n",
    "$f: R^{n} \\rightarrow R^{m}$<br/>\n",
    "$R^{n}$은 정의역(domain), $R^{m}$은 공역(co-domain)\n",
    "\n",
    "#### 벡터 값 함수(vector valued function) 리마인드\n",
    "\"1차원 공간보다 높은 차원의 공간 또는 1차원 공간보다 높은 차원의 부분공간에 대응시키는 함수(즉, n > 1이고, 공역(co-domain)이 $R^{n}$인 함수)\"\n",
    "\n",
    "예를들어보면,<br/>\n",
    "$f: R^{3} \\rightarrow R^{2}$<br/>\n",
    "$f(x_{1}, x_{2}, x_{3}) = (x_{1}+2 x_{2}, 3 x_{3})$"
   ]
  },
  {
   "cell_type": "markdown",
   "metadata": {},
   "source": [
    "### 벡터의 변환(Transformation)\n",
    "$f$ -> $T$로 바꾸고, n-tuples 표기법 -> vector 표기법으로 바꾸면<br/>\n",
    "$T: R^{3} \\rightarrow R^{2}$<br/>\n",
    "$T(\\left[\\begin{array} {rrr} x_{1} \\\\ x_{2} \\\\ x_{3}\\\\ \\end{array}\\right]) = \\left[\\begin{array} {rrr} x_{1}+2 x_{2} \\\\ 3 x_{3} \\\\ \\end{array}\\right]$\n",
    "벡터의 변환은 사실 그저 함수와 같은 의미이다<br/>\n",
    "표기법을 바꾸는 이유는 명확하게 표시하여 다른 개념과 혼동을 막기 위함이다<br/>\n",
    "(예를들면, 미분방정식의 '라플라스 변환'이라는 개념)"
   ]
  },
  {
   "cell_type": "markdown",
   "metadata": {},
   "source": [
    "### 벡터의 변환을 기하학적으로 보기\n",
    "두 개의 함수 계산을 해보면,<br/>\n",
    "$T(\\left[\\begin{array} {rrr} 1 \\\\ 1 \\\\ 1 \\\\ \\end{array}\\right]) = \\left[\\begin{array} {rrr} 3\\\\ 3\\\\ \\end{array}\\right]$\n",
    ",\n",
    "$T(\\left[\\begin{array} {rrr} 2\\\\ 4\\\\ 1\\\\ \\end{array}\\right]) = \\left[\\begin{array} {rrr} 10\\\\ 3\\\\ \\end{array}\\right]$\n",
    "\n",
    "채원님 피피티 받아서 기하학 그림 쉽게 뽑아내보기!\n",
    "\n",
    "#### NOTE: 살만 칸 아저씨가 말한다\n",
    "실제로, 비디오게임 프로그래밍에서는 3차원 <-> 2차원 벡터 변환을 이용해 시점 변경을 지원한다고 한다\n"
   ]
  },
  {
   "cell_type": "markdown",
   "metadata": {},
   "source": [
    "## 2-1-3.선형변환\n",
    "선형결합(Linear Combination)과 유사한 성질을 갖는 변환(Transformation)을 선형변환(Linear Transformation)이라고 한다\n",
    "\n",
    "즉, 선형결합에서의 덧셈과, 스칼라곱에 대한 성질을 만족하는 변환을 말한다<br/>\n",
    "Linear Transformation $\\leftrightarrow$ $\\vec a, \\vec b \\in R^{n } \\\\ T(\\vec a + \\vec b) = T(\\vec a) + T(\\vec b) \\\\ T(c \\vec a) = cT(\\vec a)$"
   ]
  },
  {
   "cell_type": "markdown",
   "metadata": {},
   "source": [
    "예를들어,<br/>\n",
    "다음과 같은 함수가 선형변환인지 확인해보자<br/>\n",
    "$T: R^{2} \\rightarrow R^{2}$<br/>\n",
    "$T(\\left[\\begin{array} {rrr} x_{1} \\\\ x_{2} \\\\ \\end{array}\\right]) = \\left[\\begin{array} {rrr} x_{1}+x_{2} \\\\ 3 x_{1} \\\\ \\end{array}\\right]$\n",
    "\n",
    "두 벡터 $\\vec a$, $\\vec b$가 있을때,<br/>\n",
    "$\\vec a = \\left[\\begin{array} {rrr} a_{1} \\\\ a_{2} \\\\ \\end{array}\\right]$\n",
    "$\\vec b = \\left[\\begin{array} {rrr} b_{1} \\\\ b_{2} \\\\ \\end{array}\\right]$\n",
    "\n",
    "먼저 덧셈에 대한 성질을 확인해보면,<br/>\n",
    "$T(\\vec a) = T(\\left[\\begin{array} {rrr} a_{1} \\\\ a_{2} \\\\ \\end{array}\\right]) = \\left[\\begin{array} {rrr} a_{1}+a_{2} \\\\ 3 a_{1} \\\\ \\end{array}\\right]$\n",
    "이고,\n",
    "$T(\\vec b) = T(\\left[\\begin{array} {rrr} b_{1} \\\\ b_{2} \\\\ \\end{array}\\right]) = \\left[\\begin{array} {rrr} b_{1}+b_{2} \\\\ 3 b_{1} \\\\ \\end{array}\\right]$\n",
    "이다\n",
    "즉, $T(\\vec a) + T(\\vec b) = \\left[\\begin{array} {rrr} a_{1}+a_{2}+b_{1}+b_{2} \\\\ 3 a_{1}+3 b_{1} \\\\ \\end{array}\\right]$\n",
    "\n",
    "$\\vec a + \\vec b = \\left[\\begin{array} {rrr} a_{1} + b_{1} \\\\ a_{2} + b_{2} \\\\ \\end{array}\\right]$ 이므로,\n",
    "\n",
    "$T(\\vec a + \\vec b) = T(\\left[\\begin{array} {rrr} a_{1} + b_{1} \\\\ a_{2} + b_{2} \\\\ \\end{array}\\right]) = \\left[\\begin{array} {rrr} a_{1} + b_{1} + a_{2} + b_{2} \\\\ 3 a_{1} + 3 b_{1} \\\\ \\end{array}\\right]$\n",
    "이다\n",
    "\n",
    "즉, $T(\\vec a + \\vec b) = T(\\vec a + \\vec b)$"
   ]
  },
  {
   "cell_type": "markdown",
   "metadata": {},
   "source": [
    "스칼라곱에 대한 성질을 확인해보면,<br/>\n",
    "$T(c \\vec a) = T(\\left[\\begin{array} {rrr} c a_{1} \\\\ c a_{2} \\\\ \\end{array}\\right]) = \\left[\\begin{array} {rrr} c a_{1} + c a_{2} \\\\ 3 c a_{1} \\\\ \\end{array}\\right] = c \\left[\\begin{array} {rrr} a_{1} + a_{2} \\\\ 3 a_{1} \\\\ \\end{array}\\right] = c T(\\vec a)$\n",
    "\n",
    "즉, $T(c \\vec a) = c T(\\vec a)$"
   ]
  },
  {
   "cell_type": "markdown",
   "metadata": {},
   "source": [
    "반례로 선형변환이 될수없는 함수를 보자<br/>\n",
    "$T: R^{2} \\rightarrow R^{2}$<br/>\n",
    "$T(\\left[\\begin{array} {rrr} x_{1} \\\\ x_{2} \\\\ \\end{array}\\right]) = \\left[\\begin{array} {rrr} x_{1}^{2} \\\\ 0 \\\\ \\end{array}\\right]$\n",
    "\n",
    "스칼라곱에 대한 성질로 확인해보면,<br/>\n",
    "$T(c \\vec a) = T(\\left[\\begin{array} {rrr} c a_{1} \\\\ c a_{2} \\\\ \\end{array}\\right]) = \\left[\\begin{array} {rrr} (c a_{1})^{2} \\\\ 0 \\\\ \\end{array}\\right] = \\left[\\begin{array} {rrr} c^{2} a_{1}^{2} \\\\ 0 \\\\ \\end{array}\\right] = c^{2} \\left[\\begin{array} {rrr} a_{1}^{2} \\\\ 0 \\\\ \\end{array}\\right] = c^{2} T(\\vec a)$\n",
    "\n",
    "즉, $T(c \\vec a) = c^{2} T(\\vec a)$ 이므로,<br/>\n",
    "스칼라곱에 대한 성질인 $T(c \\vec a) = cT(\\vec a)$를 만족하지 못한다\n",
    "\n",
    "#### NOTE: 살만 칸 아저씨가 말한다\n",
    "직관적으로 변환이 선형인지 아닌지 확인하는 방법은<br/>\n",
    "변환의 정의에서 각 성분들이 다른 성분들의 선형결합만을 포함하면 선형변환이고,<br/>\n",
    "성분들이 서로 곱해지거나, 지수나 제곱들이 보인다면 선형변환이 아닐 것이다"
   ]
  },
  {
   "cell_type": "markdown",
   "metadata": {},
   "source": [
    "## 2-1-4.선형변환의 행렬 벡터적"
   ]
  },
  {
   "cell_type": "markdown",
   "metadata": {},
   "source": [
    "## 2-1-5.행렬 벡터적 선형변환"
   ]
  },
  {
   "cell_type": "markdown",
   "metadata": {},
   "source": []
  }
 ],
 "metadata": {
  "kernelspec": {
   "display_name": "Python 3",
   "language": "python",
   "name": "python3"
  },
  "language_info": {
   "codemirror_mode": {
    "name": "ipython",
    "version": 3
   },
   "file_extension": ".py",
   "mimetype": "text/x-python",
   "name": "python",
   "nbconvert_exporter": "python",
   "pygments_lexer": "ipython3",
   "version": "3.6.3"
  }
 },
 "nbformat": 4,
 "nbformat_minor": 2
}
