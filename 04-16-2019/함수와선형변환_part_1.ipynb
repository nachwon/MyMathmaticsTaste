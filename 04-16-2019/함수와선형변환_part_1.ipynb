{
 "cells": [
  {
   "cell_type": "markdown",
   "metadata": {},
   "source": [
    "# 2-1. 함수와 선형변환"
   ]
  },
  {
   "attachments": {
    "image.png": {
     "image/png": "[encoded data removed]"
    }
   },
   "cell_type": "markdown",
   "metadata": {},
   "source": [
    "## 2-1-1. 함수 더 이해하기\n",
    "### 목표\n",
    "선형대수를 배우기 전의 알고있는 함수(function)의 개념과 선형대수에서 다루는 벡터(vector)의 개념을 연결하는 것, 함수의 개념을 확장시킨다!\n",
    "\n",
    "### 함수 리마인드\n",
    "어떤 집합(set) X와 Y가 있고, X의 원소들을 집합 Y의 원소들에 대응 시키면 함수라고 한다<br/>\n",
    "그림으로 표현하면, 다음과 같다\n",
    "![image.png](attachment:image.png)\n",
    "\n",
    "함수는 한 집합의 원소들과 다른 집합의 원소들과의 관계를 나타낸다<br/>\n",
    "X의 원소를 Y의 원소로 대응시키는 것을, 사상(mapping)한다고 말한다\n",
    "\n",
    "위의 관계를 수식으로 표현하면, 다음과 같다\n",
    "\n",
    "$f: X \\rightarrow Y$"
   ]
  },
  {
   "attachments": {},
   "cell_type": "markdown",
   "metadata": {},
   "source": [
    "이제 더 구체적인 실제 함수로 예를들어보자\n",
    "\n",
    "$f(x) = x^{2}$\n",
    "\n",
    "보통 함수를 정의할 때, 입력되는 $x$의 조건을 포함하기도 하는데, 아무런 조건이 없으면 모든 실수를 의미한다\n",
    "\n",
    "이 함수에서 $x$가 실수 집합이라면, 대응되는 $x^{2}$값도 실수집합이 된다\n",
    "\n",
    "따라서, 함수 f의 조건 관계를 아래와 같이 적어볼 수 있다\n",
    "\n",
    "$f: R \\rightarrow R$\n",
    "\n",
    "\n",
    "#### NOTE: 살만 칸 아저씨의 함수에 대한 개념\n",
    "여기서 잠시 짚고 넘어갈 게 있어요<br/>\n",
    "1. 제가 맨 처음 함수를 배웠을 때는 함수에 $x$를 집어넣으면 $x^{2}$을 뱉는다고 생각했어요 이건 사실이죠 실제로 이렇게 나와요\n",
    "\n",
    "2. 그 다음에 저는 다르게 생각해 봤어요 함수가 $x$를 다른 수로 바꾼다고 생각했죠 이런 식으로 생각해도 돼요 사실 가장 적절한 표현일 수도 있죠\n",
    "\n",
    "3. 하지만 지금 배우는 함수의 정의는 $x$와 $x^{2}$ 사이의 대응관계라고 하는 것이 적절해요\n",
    "\n",
    "->\n",
    "살만칸 아저씨의 생각을 나름대로 재해석해보면\n",
    "1. $x$와 $x^{2}$은 의존성이 있다, 연산에 초점이 맞춰져있고 의존(dependency)한다\n",
    "2. $x$와 $x^{2}$은 의존성이 없다, 연산에 초점이 맞춰져있지만, 의존성이 없다고 이해\n",
    "3. $x$와 $x^{2}$은 의존성이 있다, 연산하는 것이 아니라 그저 정의된 수식에 따라 사상(mapping) 한다"
   ]
  },
  {
   "attachments": {},
   "cell_type": "markdown",
   "metadata": {},
   "source": [
    "### 함수 용어 리마인드\n",
    "함수 용어를 리마인드하기 위해, 위에서 사용한 관계에 대한 수식들을 가져와 보면,\n",
    "\n",
    "$f: X \\rightarrow Y$<br/>\n",
    "이 관계에서, $X$는 정의역(domain), $Y$는 공역(co-domain)\n",
    "\n",
    "$f: R \\rightarrow R$<br/>\n",
    "이 관계에서, $R$은 정의역(domain)이면서, 공역(co-domain)\n",
    "\n",
    "치역(range)은?<br/>\n",
    "\"subset of co-domain that function actually maps to\"<br/>\n",
    "\"공역안에 있는, 함수가 실제로 값을 대응시키는 집합\""
   ]
  },
  {
   "attachments": {},
   "cell_type": "markdown",
   "metadata": {},
   "source": [
    "예를들어 아래와 같은 관계와 정의를 갖는 함수 $g$가 있다면,<br/>\n",
    "$g: R^{2} \\rightarrow R$<br/>\n",
    "$g(x_{1}, x_{2}) = 2$\n",
    "\n",
    "여기서,<br/>\n",
    "정의역(domain)은 $R^{2}$, 공역(co-domain)은 $R$<br/>\n",
    "치역(range)은 set {2}이고, {2}는 subset of 공역(co-domain), $R$"
   ]
  },
  {
   "attachments": {},
   "cell_type": "markdown",
   "metadata": {},
   "source": [
    "다른 예를들어보면,<br/>\n",
    "$h: R^{2} \\rightarrow R^{3}$<br/>\n",
    "$h(x_{1}, x_{2}) = (x_{1}+x_{2}, x_{2}-x_{1}, x_{2} \\cdot x_{1})$\n",
    "\n",
    "여기서,<br/>\n",
    "정의역(domain)은 $R^{2}$, 공역(co-domain)은 $R^{3}$<br/>\n",
    "\n",
    "치역(range)은 \"함수가 실제로 대응시키는 값\"이므로,<br/>\n",
    "$h(2, 3) = (5, 1, 6)$<br/>\n",
    "$(5, 1, 0) \\in range$\n",
    "\n",
    "치역(range)에 포함되지 않으면서 공역(co-domain)에 포함되는 원소 $(5, 1, 0)$에 대해서 생각해보자<br/>\n",
    "$(5, 1, 0) \\notin range$\n",
    "\n",
    "#### QUESTION:\n",
    "여기서 치역(Range)은 수학적으로 어떻게 표현?\n"
   ]
  },
  {
   "attachments": {},
   "cell_type": "markdown",
   "metadata": {},
   "source": [
    "### 함수 용어 in 선형대수\n",
    "위에서 봤던 $f, g, h$ 함수들을 보면 다음과 같다\n",
    "\n",
    "$f: R \\rightarrow R$<br/>\n",
    "$f(x) = x^{2}$\n",
    "\n",
    "$g: R^{2} \\rightarrow R$<br/>\n",
    "$g(x_{1}, x_{2}) = 2$\n",
    "\n",
    "$h: R^{2} \\rightarrow R^{3}$<br/>\n",
    "$h(x_{1}, x_{2}) = (x_{1}+x_{2}, x_{2}-x_{1}, x_{2} \\cdot x_{1})$\n",
    "\n",
    "\n",
    "$f$나, $g$함수 처럼,<br/>\n",
    "1차원 공간 또는 1차원 공간의 부분공간에 대응시키는 함수를 (즉, 공역(co-domain)이 $R$인 함수)<br/>\n",
    "스칼라 값 함수(scalar valued function) 또는 실수 값 함수(real valued function)라고 한다\n",
    "\n",
    "$h$함수 처럼,<br/>\n",
    "1차원 공간보다 높은 차원의 공간 또는 1차원 공간보다 높은 차원의 부분공간에 대응시키는 함수를 (즉, 공역(co-domain)이 $R^{n}$인 함수)<br/>\n",
    "벡터 값 함수(vector valued function)라고 한다"
   ]
  },
  {
   "cell_type": "markdown",
   "metadata": {},
   "source": [
    "## 2-1-2.벡터의 변환"
   ]
  },
  {
   "cell_type": "markdown",
   "metadata": {},
   "source": [
    "## 2-1-3.선형변환"
   ]
  },
  {
   "cell_type": "markdown",
   "metadata": {},
   "source": [
    "## 2-1-4.선형 변환의 행렬 벡터적"
   ]
  },
  {
   "cell_type": "markdown",
   "metadata": {},
   "source": [
    "## 2-1-5.행렬 벡터적 선형변환"
   ]
  },
  {
   "cell_type": "markdown",
   "metadata": {},
   "source": []
  }
 ],
 "metadata": {
  "kernelspec": {
   "display_name": "Python 3",
   "language": "python",
   "name": "python3"
  },
  "language_info": {
   "codemirror_mode": {
    "name": "ipython",
    "version": 3
   },
   "file_extension": ".py",
   "mimetype": "text/x-python",
   "name": "python",
   "nbconvert_exporter": "python",
   "pygments_lexer": "ipython3",
   "version": "3.7.1"
  }
 },
 "nbformat": 4,
 "nbformat_minor": 2
}
